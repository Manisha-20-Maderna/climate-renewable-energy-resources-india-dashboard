{
 "cells": [
  {
   "cell_type": "code",
   "execution_count": 1,
   "id": "ca14ea1b",
   "metadata": {},
   "outputs": [
    {
     "name": "stdout",
     "output_type": "stream",
     "text": [
      "Clean combined file saved to: E:\\STATEWISE_CLIMATE_RENEWABLEENERGY_DATA\\all_states_combined_aligned.xlsx\n"
     ]
    }
   ],
   "source": [
    "import pandas as pd\n",
    "import os\n",
    "\n",
    "folder_path = r\"E:\\STATEWISE_CLIMATE_RENEWABLEENERGY_DATA\"\n",
    "\n",
    "# List all Excel files except 'Comprehensive_data.xlsx'\n",
    "files = [\n",
    "    f for f in os.listdir(folder_path)\n",
    "    if f.endswith('.xlsx') and f.lower() != 'comprehensive_data.xlsx' and not f.startswith('~')\n",
    "]\n",
    "\n",
    "standard_columns = None\n",
    "combined_data = []\n",
    "\n",
    "for file in files:\n",
    "    file_path = os.path.join(folder_path, file)\n",
    "    df = pd.read_excel(file_path)\n",
    "\n",
    "    # Normalize column names: strip spaces and lowercase\n",
    "    df.columns = df.columns.str.strip().str.lower()\n",
    "\n",
    "    # Set column standard based on first file\n",
    "    if standard_columns is None:\n",
    "        standard_columns = df.columns.tolist()\n",
    "\n",
    "    # Align current DataFrame to standard columns\n",
    "    df = df.reindex(columns=standard_columns)\n",
    "\n",
    "    combined_data.append(df)\n",
    "\n",
    "# Combine all DataFrames\n",
    "final_df = pd.concat(combined_data, ignore_index=True)\n",
    "\n",
    "# Save final clean file\n",
    "output_path = os.path.join(folder_path, \"all_states_combined_aligned.xlsx\")\n",
    "final_df.to_excel(output_path, index=False)\n",
    "\n",
    "print(f\"Clean combined file saved to: {output_path}\")\n"
   ]
  }
 ],
 "metadata": {
  "kernelspec": {
   "display_name": "Python 3",
   "language": "python",
   "name": "python3"
  },
  "language_info": {
   "codemirror_mode": {
    "name": "ipython",
    "version": 3
   },
   "file_extension": ".py",
   "mimetype": "text/x-python",
   "name": "python",
   "nbconvert_exporter": "python",
   "pygments_lexer": "ipython3",
   "version": "3.13.2"
  }
 },
 "nbformat": 4,
 "nbformat_minor": 5
}
